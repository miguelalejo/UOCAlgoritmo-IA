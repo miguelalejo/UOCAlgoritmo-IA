{
  "nbformat": 4,
  "nbformat_minor": 0,
  "metadata": {
    "colab": {
      "name": "UOC | Algoritmo IA.ipynb",
      "provenance": [],
      "collapsed_sections": []
    },
    "kernelspec": {
      "name": "python3",
      "display_name": "Python 3"
    },
    "language_info": {
      "name": "python"
    }
  },
  "cells": [
    {
      "cell_type": "markdown",
      "metadata": {
        "id": "hdqglxBqcwO_"
      },
      "source": [
        "---\n",
        "* **Titulo**: UOC | Algoritmo IA\n",
        "* **Autor:** Miguel Ponce\n",
        "* **Correo:** miguelalejoponce@uoc.edu\n",
        "* **Fecha:** \"Noviembre, 16 de 2021\"\n",
        "* **Salida**: ipynb, predicciones.csv\n",
        "---\n",
        "## Contexto: Preprocesamiento Datos\n",
        "\n",
        "* **Contexto**: Reto a desarrollar\n",
        "Desarrolla un algoritmo basado de machine learning en el que dado el input y output que se presentan en la sección de “Training “ permita calcular el output deseado a partir del input que aparece en la sección de “Test”.\n",
        "\n",
        "## Origen del la fuente de datos\n",
        "\n",
        "\n",
        "* Datasets\n",
        "Training:\n",
        "\n",
        "Input\n",
        "[ -40, -10, 0, 8, 15, 22, 38 ]\n",
        "\n",
        "Output\n",
        "[-40, 14, 32, 46, 59, 72, 100 ]\n",
        "\n",
        "Test:\n",
        "\n",
        "Input\n",
        "[5, 10, -7, 24, 89]\n",
        "\n",
        "Output\n",
        "Tiene que ser calculado por tu algoritmo en función del input presentado.\n"
      ]
    },
    {
      "cell_type": "markdown",
      "metadata": {
        "id": "x6MCkBtph8hO"
      },
      "source": [
        "# Importar Liberías"
      ]
    },
    {
      "cell_type": "code",
      "metadata": {
        "id": "G8OhAHgw0YVz"
      },
      "source": [
        "import pandas as pd\n",
        "import numpy as np\n",
        "import seaborn as sns\n",
        "from sklearn.metrics import mean_squared_error\n",
        "from sklearn.metrics import mean_absolute_error\n",
        "from sklearn.metrics import r2_score\n",
        "from sklearn.ensemble import RandomForestClassifier, VotingClassifier, ExtraTreesClassifier\n",
        "from sklearn.model_selection import train_test_split\n",
        "import matplotlib.pyplot as plt\n",
        "import matplotlib.pyplot as plt\n",
        "import numpy as np\n",
        "import itertools\n",
        "from sklearn.model_selection import learning_curve\n",
        "from sklearn.model_selection import ShuffleSplit\n",
        "from sklearn.model_selection import cross_val_score\n",
        "from sklearn.metrics import classification_report\n",
        "from sklearn.metrics import confusion_matrix\n",
        "from sklearn.model_selection import KFold"
      ],
      "execution_count": 1,
      "outputs": []
    },
    {
      "cell_type": "markdown",
      "metadata": {
        "id": "0jv7D0ZEiAlW"
      },
      "source": [
        "### Creacion de conjunto de datos"
      ]
    },
    {
      "cell_type": "code",
      "metadata": {
        "colab": {
          "base_uri": "https://localhost:8080/",
          "height": 266
        },
        "id": "kqhxbV4Xih8i",
        "outputId": "3352e991-20bf-4bed-a94d-e7dd745bb57d"
      },
      "source": [
        "input = np.array([ -40, -10, 0, 8, 15, 22, 38 ])\n",
        "output = np.array([-40, 14, 32, 46, 59, 72, 100 ])\n",
        "df_data = pd.DataFrame({'input': input,'output':output})\n",
        "df_data"
      ],
      "execution_count": 2,
      "outputs": [
        {
          "output_type": "execute_result",
          "data": {
            "text/html": [
              "<div>\n",
              "<style scoped>\n",
              "    .dataframe tbody tr th:only-of-type {\n",
              "        vertical-align: middle;\n",
              "    }\n",
              "\n",
              "    .dataframe tbody tr th {\n",
              "        vertical-align: top;\n",
              "    }\n",
              "\n",
              "    .dataframe thead th {\n",
              "        text-align: right;\n",
              "    }\n",
              "</style>\n",
              "<table border=\"1\" class=\"dataframe\">\n",
              "  <thead>\n",
              "    <tr style=\"text-align: right;\">\n",
              "      <th></th>\n",
              "      <th>input</th>\n",
              "      <th>output</th>\n",
              "    </tr>\n",
              "  </thead>\n",
              "  <tbody>\n",
              "    <tr>\n",
              "      <th>0</th>\n",
              "      <td>-40</td>\n",
              "      <td>-40</td>\n",
              "    </tr>\n",
              "    <tr>\n",
              "      <th>1</th>\n",
              "      <td>-10</td>\n",
              "      <td>14</td>\n",
              "    </tr>\n",
              "    <tr>\n",
              "      <th>2</th>\n",
              "      <td>0</td>\n",
              "      <td>32</td>\n",
              "    </tr>\n",
              "    <tr>\n",
              "      <th>3</th>\n",
              "      <td>8</td>\n",
              "      <td>46</td>\n",
              "    </tr>\n",
              "    <tr>\n",
              "      <th>4</th>\n",
              "      <td>15</td>\n",
              "      <td>59</td>\n",
              "    </tr>\n",
              "    <tr>\n",
              "      <th>5</th>\n",
              "      <td>22</td>\n",
              "      <td>72</td>\n",
              "    </tr>\n",
              "    <tr>\n",
              "      <th>6</th>\n",
              "      <td>38</td>\n",
              "      <td>100</td>\n",
              "    </tr>\n",
              "  </tbody>\n",
              "</table>\n",
              "</div>"
            ],
            "text/plain": [
              "   input  output\n",
              "0    -40     -40\n",
              "1    -10      14\n",
              "2      0      32\n",
              "3      8      46\n",
              "4     15      59\n",
              "5     22      72\n",
              "6     38     100"
            ]
          },
          "metadata": {},
          "execution_count": 2
        }
      ]
    },
    {
      "cell_type": "markdown",
      "metadata": {
        "id": "643YMc25sAsP"
      },
      "source": [
        "## Graficamos los datos\n",
        "En donde se observa que exist una aparente relacion lineal entre estos"
      ]
    },
    {
      "cell_type": "code",
      "metadata": {
        "colab": {
          "base_uri": "https://localhost:8080/",
          "height": 296
        },
        "id": "r9tTuvNEijNX",
        "outputId": "572e4f36-046c-4f08-9373-db50d9d6a3e6"
      },
      "source": [
        "sns.lineplot(\n",
        "    data=df_data, x=\"input\", y=\"output\",   markers=True, dashes=False\n",
        ")"
      ],
      "execution_count": 3,
      "outputs": [
        {
          "output_type": "execute_result",
          "data": {
            "text/plain": [
              "<matplotlib.axes._subplots.AxesSubplot at 0x7f2bfa1b8c90>"
            ]
          },
          "metadata": {},
          "execution_count": 3
        },
        {
          "output_type": "display_data",
          "data": {
            "image/png": "[encoded data removed]",
            "text/plain": [
              "<Figure size 432x288 with 1 Axes>"
            ]
          },
          "metadata": {
            "needs_background": "light"
          }
        }
      ]
    },
    {
      "cell_type": "code",
      "metadata": {
        "colab": {
          "base_uri": "https://localhost:8080/",
          "height": 458
        },
        "id": "k7ghtYJRj_o5",
        "outputId": "68c045bb-7673-418b-af4a-3e5740114fd7"
      },
      "source": [
        "sns.jointplot(data=df_data, x=\"input\", y=\"output\",color='c')"
      ],
      "execution_count": 4,
      "outputs": [
        {
          "output_type": "execute_result",
          "data": {
            "text/plain": [
              "<seaborn.axisgrid.JointGrid at 0x7f2bf1d02f10>"
            ]
          },
          "metadata": {},
          "execution_count": 4
        },
        {
          "output_type": "display_data",
          "data": {
            "image/png": "[encoded data removed]",
            "text/plain": [
              "<Figure size 432x432 with 3 Axes>"
            ]
          },
          "metadata": {
            "needs_background": "light"
          }
        }
      ]
    },
    {
      "cell_type": "markdown",
      "metadata": {
        "id": "wRTVkAPnsSf2"
      },
      "source": [
        "## Creamos un modelo de regresion lineal"
      ]
    },
    {
      "cell_type": "code",
      "metadata": {
        "colab": {
          "base_uri": "https://localhost:8080/"
        },
        "id": "g3X8g7PUmw1d",
        "outputId": "de721983-64ef-4f24-c5ac-d0c964dfcadc"
      },
      "source": [
        "import numpy as np\n",
        "from sklearn.linear_model import LinearRegression\n",
        "reg = LinearRegression().fit(input.reshape(-1, 1), output)\n",
        "reg.score(input.reshape(-1, 1), output)"
      ],
      "execution_count": 5,
      "outputs": [
        {
          "output_type": "execute_result",
          "data": {
            "text/plain": [
              "0.9999637062454002"
            ]
          },
          "metadata": {},
          "execution_count": 5
        }
      ]
    },
    {
      "cell_type": "markdown",
      "metadata": {
        "id": "T57wIV1lsZvB"
      },
      "source": [
        "Calculos los coeficientes"
      ]
    },
    {
      "cell_type": "code",
      "metadata": {
        "colab": {
          "base_uri": "https://localhost:8080/"
        },
        "id": "5SdJjKy4ofbR",
        "outputId": "40998312-cd6e-4cac-f3c5-7d00c258de1a"
      },
      "source": [
        "print(\"Coef\",reg.coef_)\n",
        "print(\"Intercept\",reg.intercept_)"
      ],
      "execution_count": 6,
      "outputs": [
        {
          "output_type": "stream",
          "name": "stdout",
          "text": [
            "Coef [1.79794911]\n",
            "Intercept 31.952525636156476\n"
          ]
        }
      ]
    },
    {
      "cell_type": "markdown",
      "metadata": {
        "id": "NOllJ4Eqskdp"
      },
      "source": [
        "## Calculamos las predicciones"
      ]
    },
    {
      "cell_type": "code",
      "metadata": {
        "id": "kRJj1SQAop4J"
      },
      "source": [
        "predEY_reg_arb = reg.predict(input.reshape(-1, 1))"
      ],
      "execution_count": 7,
      "outputs": []
    },
    {
      "cell_type": "markdown",
      "metadata": {
        "id": "tg_8wMKRsrSi"
      },
      "source": [
        "## Calculamos las métricas"
      ]
    },
    {
      "cell_type": "code",
      "metadata": {
        "colab": {
          "base_uri": "https://localhost:8080/"
        },
        "id": "rV5jVk0npVA2",
        "outputId": "cd8573a7-616b-4208-b050-91a8cb4bfe60"
      },
      "source": [
        "print('MAE',mean_absolute_error(output,predEY_reg_arb))\n",
        "print('MSE',mean_squared_error(output,predEY_reg_arb))\n",
        "print('R2', r2_score(output,predEY_reg_arb))"
      ],
      "execution_count": 8,
      "outputs": [
        {
          "output_type": "stream",
          "name": "stdout",
          "text": [
            "MAE 0.1843633009603392\n",
            "MSE 0.06304595518420045\n",
            "R2 0.9999637062454002\n"
          ]
        }
      ]
    },
    {
      "cell_type": "markdown",
      "metadata": {
        "id": "7kd0HHy3kvFg"
      },
      "source": [
        "### Predicciones finales\n",
        "\n",
        "En este caso a pesar de que el modelo de ensamble mejor el eituqetamiento en una de las variables se oprtara por el modelo Randon Forest debido a que ofrecer una predicción balanacedada entre los diretentes tipos."
      ]
    },
    {
      "cell_type": "code",
      "metadata": {
        "id": "1zzrmrmX0Y-r"
      },
      "source": [
        "test_input = np.array([5, 10, -7, 24, 89])\n",
        "predEY_test = reg.predict(test_input.reshape(-1, 1))"
      ],
      "execution_count": 9,
      "outputs": []
    },
    {
      "cell_type": "markdown",
      "metadata": {
        "id": "k7W3JHt3ttwB"
      },
      "source": [
        "## El resultado de la evaluacion es"
      ]
    },
    {
      "cell_type": "code",
      "metadata": {
        "id": "owBNiLS5lmpn",
        "colab": {
          "base_uri": "https://localhost:8080/"
        },
        "outputId": "d9952e81-5c2e-4b69-dd39-e233da7fd167"
      },
      "source": [
        "predEY_test"
      ],
      "execution_count": 10,
      "outputs": [
        {
          "output_type": "execute_result",
          "data": {
            "text/plain": [
              "array([ 40.94227117,  49.93201671,  19.36688188,  75.10330422,\n",
              "       191.9699962 ])"
            ]
          },
          "metadata": {},
          "execution_count": 10
        }
      ]
    },
    {
      "cell_type": "markdown",
      "metadata": {
        "id": "Q8oIwfUNuGtA"
      },
      "source": [
        "Visualizacion de los resultados"
      ]
    },
    {
      "cell_type": "code",
      "metadata": {
        "colab": {
          "base_uri": "https://localhost:8080/",
          "height": 458
        },
        "id": "R9rrBrCmt4s_",
        "outputId": "5746fe90-59b6-4fd9-efdd-957f75fa162b"
      },
      "source": [
        "df_data_test = pd.DataFrame({'input': test_input,'output':predEY_test})\n",
        "sns.jointplot(data=df_data_test, x=\"input\", y=\"output\",color='c')"
      ],
      "execution_count": 11,
      "outputs": [
        {
          "output_type": "execute_result",
          "data": {
            "text/plain": [
              "<seaborn.axisgrid.JointGrid at 0x7f2be8f10310>"
            ]
          },
          "metadata": {},
          "execution_count": 11
        },
        {
          "output_type": "display_data",
          "data": {
            "image/png": "[encoded data removed]",
            "text/plain": [
              "<Figure size 432x432 with 3 Axes>"
            ]
          },
          "metadata": {
            "needs_background": "light"
          }
        }
      ]
    }
  ]
}